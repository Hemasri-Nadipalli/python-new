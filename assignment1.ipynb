{
  "nbformat": 4,
  "nbformat_minor": 0,
  "metadata": {
    "colab": {
      "name": "assignment1.ipynb",
      "provenance": [],
      "collapsed_sections": [],
      "include_colab_link": true
    },
    "kernelspec": {
      "name": "python3",
      "display_name": "Python 3"
    },
    "language_info": {
      "name": "python"
    }
  },
  "cells": [
    {
      "cell_type": "markdown",
      "metadata": {
        "id": "view-in-github",
        "colab_type": "text"
      },
      "source": [
        "<a href=\"https://colab.research.google.com/github/Hemasri-Nadipalli/python-new/blob/module-1/assignment1.ipynb\" target=\"_parent\"><img src=\"https://colab.research.google.com/assets/colab-badge.svg\" alt=\"Open In Colab\"/></a>"
      ]
    },
    {
      "cell_type": "code",
      "execution_count": null,
      "metadata": {
        "colab": {
          "base_uri": "https://localhost:8080/"
        },
        "id": "YWp2M7BSjAty",
        "outputId": "df29b1d1-5b85-4f39-cfd5-ca038f9b3f04"
      },
      "outputs": [
        {
          "output_type": "stream",
          "name": "stdout",
          "text": [
            "98\n",
            "98\n"
          ]
        }
      ],
      "source": [
        "#Accept input from user and store it in variable and print the value\n",
        "num=int(input())\n",
        "a=num\n",
        "print(a)"
      ]
    },
    {
      "cell_type": "code",
      "source": [
        "# Use of print statements and use of (.format )for printing various data types\n",
        "\n",
        "maths=54\n",
        "social=68\n",
        "chemistry=57\n",
        "english=78\n",
        "physics=69\n",
        "txt=\"\"\"I am hema, I scored {0}marks in maths,\n",
        "{1}marks in social, {2}marks in chemistry,\n",
        "{3}marks in english, {4}marks in physics.\"\"\"\n",
        "print(txt.format(maths,social,chemistry,english,physics))\n",
        "\n",
        "txt=\"\"\"I am hema, I scored {}marks in maths,\n",
        "{}marks in social, {}marks in chemistry,\n",
        "{}marks in english, {}marks in \n",
        "physics.\"\"\".format(54,68,57,78,69)\n",
        "print(txt)"
      ],
      "metadata": {
        "colab": {
          "base_uri": "https://localhost:8080/"
        },
        "id": "VqWRmpGRjbmx",
        "outputId": "764021b2-72b4-4a7c-f125-8c11b37eeabe"
      },
      "execution_count": 1,
      "outputs": [
        {
          "output_type": "stream",
          "name": "stdout",
          "text": [
            "I am hema, I scored 54marks in maths,\n",
            "68marks in social, 57marks in chemistry,\n",
            "78marks in english, 69marks in physics.\n",
            "I am hema, I scored 54marks in maths,\n",
            "68marks in social, 57marks in chemistry,\n",
            "78marks in english, 69marks in \n",
            "physics.\n"
          ]
        }
      ]
    },
    {
      "cell_type": "code",
      "source": [
        "#Take 2 numbers as user input and add,multiply,divide,subtract,remainder and print the output do the same for float as well.\n",
        "x=int(input())\n",
        "y=int(input())\n",
        "z=x+y\n",
        "print(z)\n",
        "p=x-y\n",
        "print(z)\n",
        "q=x*y\n",
        "print(q)\n",
        "r=x/y\n",
        "print(r)\n",
        "s=x%y\n",
        "print(s)\n",
        "\n",
        "x=float(input())\n",
        "y=float(input())\n",
        "z=x+y\n",
        "print(z)\n",
        "p=x-y\n",
        "print(p)\n",
        "p=x*y\n",
        "print(p)\n",
        "q=x/y\n",
        "print(q)\n",
        "r=x%y\n",
        "print(r)\n"
      ],
      "metadata": {
        "colab": {
          "base_uri": "https://localhost:8080/"
        },
        "id": "jfBH_WWekeIc",
        "outputId": "20ee3510-dc46-4b68-e876-c97fed8b6d85"
      },
      "execution_count": null,
      "outputs": [
        {
          "output_type": "stream",
          "name": "stdout",
          "text": [
            "98\n",
            "89\n",
            "187\n",
            "187\n",
            "8722\n",
            "1.101123595505618\n",
            "9\n",
            "69\n",
            "89\n",
            "158.0\n",
            "-20.0\n",
            "6141.0\n",
            "0.7752808988764045\n",
            "69.0\n"
          ]
        }
      ]
    },
    {
      "cell_type": "code",
      "source": [
        "#Conversion of one unit to another (such as hours to minutes, miles to km and etc)\n",
        "\n",
        "num=float(input())\n",
        "hours=num\n",
        "minutes=hours*60\n",
        "print(minutes,\"minutes\")\n",
        "num=float(input())\n",
        "Km=num\n",
        "M=Km*1000\n",
        "print(M,\"meters\")\n",
        "num=float(input())\n",
        "miles=num\n",
        "km=miles*1.60934\n",
        "print(km,\"kilometers\")\n",
        "num=float(input())\n",
        "Kg=num\n",
        "G=Kg*1000\n",
        "print(G,\"grams\")\n",
        "num=float(input())\n",
        "L=num\n",
        "ml=L*1000\n",
        "print(ml,\"milli liters\")"
      ],
      "metadata": {
        "colab": {
          "base_uri": "https://localhost:8080/"
        },
        "id": "oilBsKVDmqgW",
        "outputId": "d4fab65b-3bcc-4134-d658-f34107a39165"
      },
      "execution_count": null,
      "outputs": [
        {
          "output_type": "stream",
          "name": "stdout",
          "text": [
            "78\n",
            "4680.0 minutes\n",
            "09\n",
            "9000.0 meters\n",
            "97\n",
            "156.10598 kilometers\n",
            "78\n",
            "78000.0 grams\n",
            "67\n",
            "67000.0 milli liters\n"
          ]
        }
      ]
    },
    {
      "cell_type": "code",
      "source": [
        "#Usage of mathematical functions in python likemath.ceil,floor,fabs,fmod,trunc,pow, sqrt etc. \n",
        "\n",
        "import math\n",
        "x=math.ceil(7.8)\n",
        "y=math.floor(8.7)\n",
        "z=math.fabs(3.7)\n",
        "p=math.fmod(6,7)\n",
        "q=math.trunc(8.5)\n",
        "r=pow(4,6)\n",
        "s=math.sqrt(49)\n",
        "\n",
        "print(x)\n",
        "print(y)\n",
        "print(z)\n",
        "print(p)\n",
        "print(q)\n",
        "print(r)\n",
        "print(s)"
      ],
      "metadata": {
        "colab": {
          "base_uri": "https://localhost:8080/"
        },
        "id": "o7wlAMDOnUlA",
        "outputId": "cdc4a2df-acb1-4d75-f00f-e7fe9d87fb86"
      },
      "execution_count": null,
      "outputs": [
        {
          "output_type": "stream",
          "name": "stdout",
          "text": [
            "8\n",
            "8\n",
            "3.7\n",
            "6.0\n",
            "8\n",
            "4096\n",
            "7.0\n"
          ]
        }
      ]
    },
    {
      "cell_type": "code",
      "source": [
        "#Building a mathematical calculator that can perform operations according to user input.Use decision making statement\n",
        " \n",
        "\n",
        "x=float(input())\n",
        "y=float(input())\n",
        "z=[\"+\",\"-\",\"*\",\"/\"]\n",
        "p=str(input(c))\n",
        "if \"+\" in p:\n",
        " print(x+y)\n",
        "elif \"-\" in p:\n",
        " print(x-y)\n",
        "elif \"*\" in p:\n",
        " print(x*y)\n",
        "elif \"/\" in p:\n",
        " print(x/y)"
      ],
      "metadata": {
        "colab": {
          "base_uri": "https://localhost:8080/"
        },
        "id": "PUWlXQIXoKhX",
        "outputId": "2bd74262-15b1-4855-e4db-911f7a2f22f1"
      },
      "execution_count": null,
      "outputs": [
        {
          "name": "stdout",
          "output_type": "stream",
          "text": [
            "67\n",
            "78\n",
            "419.9165189193122445\n"
          ]
        }
      ]
    },
    {
      "cell_type": "code",
      "source": [
        "#Accepting 5 different subject marks from user and displaying the grade of the student\n",
        "x=int(input(\"enter maths marks : \"))\n",
        "y=int(input(\"enter phy marks : \"))\n",
        "z=int(input(\"enter chem marks : \"))\n",
        "p=int(input(\"enter english marks : \"))\n",
        "q=int(input(\"enter C marks : \"))\n",
        "total=x+y+z+p+q\n",
        "print(total)\n",
        "avg=total/5\n",
        "print(avg)\n",
        "if avg>=91 and avg<=100:\n",
        " print(\"A grade\")\n",
        "elif avg>=81 and avg<91:\n",
        " print(\"B grade\")\n",
        "elif avg>=71 and avg<81:\n",
        " print(\"C grade\")\n",
        "elif avg>=61 and avg<71:\n",
        " print(\"D grade\")\n",
        "elif avg>=51 and avg<61:\n",
        " print(\"E grade\")\n",
        "elif avg>=41 and avg<51:\n",
        " print(\" F grade\")\n",
        "elif avg>=33 and avg<41:\n",
        " print(\"G\")\n"
      ],
      "metadata": {
        "colab": {
          "base_uri": "https://localhost:8080/"
        },
        "id": "Z7xW447NpBQy",
        "outputId": "0a6b2cde-d675-4225-b2f1-d0221518c0ab"
      },
      "execution_count": null,
      "outputs": [
        {
          "output_type": "stream",
          "name": "stdout",
          "text": [
            "enter maths marks : 45\n",
            "enter phy marks : 67\n",
            "enter chem marks : 35\n",
            "enter english marks : 56\n",
            "enter C marks : 89\n",
            "292\n",
            "58.4\n",
            "E grade\n"
          ]
        }
      ]
    },
    {
      "cell_type": "code",
      "source": [
        "#Printing all even numbers, odd numbers, count of even numbers, count of odd numbers within a given range.\n",
        "n1=int(input())\n",
        "n2=int(input())\n",
        "print((\"____\"))\n",
        "print(\"Even numbers in given Range\")\n",
        "for x in range(n1,n2+1):\n",
        " if x%2==0:\n",
        "   print(x) \n",
        "count=0 \n",
        "for x in range(n1,n2):\n",
        " if x%2:\n",
        "  count+=1\n",
        "print(\"Number of even numbers are \",count)\n",
        "print(\"-----\") \n",
        "n3=int(input())\n",
        "n4=int(input())\n",
        "print(\"Odd numbers in given Range\")\n",
        "print((\"____\"))\n",
        "for x in range(n3,n4+1):\n",
        " if x%2==1:\n",
        "  print(x)\n",
        "count=0 \n",
        "for x in range(n1,n2):\n",
        " if not x%2:\n",
        "   count+=1\n",
        "print(\"number of odd numbers are\",count)"
      ],
      "metadata": {
        "colab": {
          "base_uri": "https://localhost:8080/"
        },
        "id": "xkAI7H5ip5SJ",
        "outputId": "20dc7e85-63a8-4897-9340-703e5c799ae5"
      },
      "execution_count": null,
      "outputs": [
        {
          "output_type": "stream",
          "name": "stdout",
          "text": [
            "45\n",
            "67\n",
            "____\n",
            "Even numbers in given Range\n",
            "46\n",
            "48\n",
            "50\n",
            "52\n",
            "54\n",
            "56\n",
            "58\n",
            "60\n",
            "62\n",
            "64\n",
            "66\n",
            "Number of even numbers are  11\n",
            "-----\n",
            "89\n",
            "97\n",
            "Odd numbers in given Range\n",
            "____\n",
            "89\n",
            "91\n",
            "93\n",
            "95\n",
            "97\n",
            "number of odd numbers are 11\n"
          ]
        }
      ]
    },
    {
      "cell_type": "code",
      "source": [
        "#a) Compute the factorial of a given number. \n",
        "num=int(input())\n",
        "P=1\n",
        "for x in range(1,num+1):\n",
        " P=P*x \n",
        "print(\"Factorial of\" ,num ,\"is\", P)\n",
        "#b) Compute GCD of two given numbers.\n",
        "num1=int(input())\n",
        "num2=int(input())\n",
        "def hcf(num1,num2):\n",
        " if num1>num2:\n",
        "    smaller = num2\n",
        " else: \n",
        "    smaller=num1\n",
        " for x in range(1, smaller+1):\n",
        "    if((num1 % x == 0) and (num2 % x == 0)):\n",
        "     hcf = x \n",
        " return hcf\n",
        "print(\"Gcd is\", hcf(n1,n2))"
      ],
      "metadata": {
        "colab": {
          "base_uri": "https://localhost:8080/"
        },
        "id": "L67PEIUbrYZA",
        "outputId": "d07cef96-2e50-4e74-d245-d385663bf89b"
      },
      "execution_count": null,
      "outputs": [
        {
          "output_type": "stream",
          "name": "stdout",
          "text": [
            "89\n",
            "Factorial of 89 is 16507955160908461081216919262453619309839666236496541854913520707833171034378509739399912570787600662729080382999756800000000000000000000\n",
            "67\n",
            "89\n",
            "Gcd is 1\n"
          ]
        }
      ]
    },
    {
      "cell_type": "code",
      "source": [
        "# c) Generate Fibonacci series up to N numbers.\n",
        "num=int(input())\n",
        "x=0\n",
        "y=1\n",
        "count=0\n",
        "print(\"fibonnaci seriers are\")\n",
        "while count<num:\n",
        " print(a)\n",
        " nth=x+y\n",
        " x=y\n",
        " y=nth\n",
        " count += 1"
      ],
      "metadata": {
        "colab": {
          "base_uri": "https://localhost:8080/"
        },
        "id": "MRU9yiTUr4Ru",
        "outputId": "bab10891-3686-4734-d3be-ff2566bacdb7"
      },
      "execution_count": null,
      "outputs": [
        {
          "output_type": "stream",
          "name": "stdout",
          "text": [
            "7\n",
            "fibonnaci seriers are\n",
            "98\n",
            "98\n",
            "98\n",
            "98\n",
            "98\n",
            "98\n",
            "98\n"
          ]
        }
      ]
    },
    {
      "cell_type": "code",
      "source": [
        "#Check whether the given input is \n",
        "#a) palindrome\n",
        "n=int(input())\n",
        "n1=n\n",
        "sum=0\n",
        "while(n1!=0): \n",
        " r=n1%10\n",
        " sum=sum*10+r\n",
        " n1=n1//10\n",
        "if(sum==n):\n",
        " print(\"palindrome\")\n",
        "else:\n",
        " print(\"Not palindrome\") \n"
      ],
      "metadata": {
        "colab": {
          "base_uri": "https://localhost:8080/"
        },
        "id": "pQ-_1L4BtvRZ",
        "outputId": "0bc12e0f-e4b3-4ea4-c2d6-fa2e18ef16fc"
      },
      "execution_count": null,
      "outputs": [
        {
          "output_type": "stream",
          "name": "stdout",
          "text": [
            "67\n",
            "Not palindrome\n"
          ]
        }
      ]
    },
    {
      "cell_type": "code",
      "source": [
        "#Strong number\n",
        "n=int(input())\n",
        "sum=0\n",
        "n=n1\n",
        "while(n1):\n",
        " i=1\n",
        " f=1\n",
        " r=n1%10\n",
        " while(i<=r):\n",
        "  f=f*i\n",
        " i=i+1\n",
        " sum=sum+f\n",
        " n1=n1//10\n",
        "if(sum==n):\n",
        " print(\"Strong number\")\n",
        "else:\n",
        " print(\"Not a Strong Number\") \n"
      ],
      "metadata": {
        "colab": {
          "base_uri": "https://localhost:8080/"
        },
        "id": "r_4yWhhXycRi",
        "outputId": "3bd40c37-16de-460f-ea3e-c06738346a4c"
      },
      "execution_count": null,
      "outputs": [
        {
          "output_type": "stream",
          "name": "stdout",
          "text": [
            "145\n",
            "Strong number\n"
          ]
        }
      ]
    },
    {
      "cell_type": "code",
      "source": [
        "#c) perfect number\n",
        "a=int(input())\n",
        "sum=0\n",
        "for p in range(1, a):\n",
        " if(a%p==0):\n",
        "  sum=sum+p\n",
        "if (sum==a):\n",
        " print(\"Perfect number\")\n",
        "else:\n",
        " print(\"Not a Perfect number\")"
      ],
      "metadata": {
        "colab": {
          "base_uri": "https://localhost:8080/"
        },
        "id": "BbqX3smN01Gc",
        "outputId": "f9e63290-a046-4713-e6d3-bd87ce4d748c"
      },
      "execution_count": null,
      "outputs": [
        {
          "output_type": "stream",
          "name": "stdout",
          "text": [
            "45\n",
            "Not a Perfect number\n"
          ]
        }
      ]
    },
    {
      "cell_type": "code",
      "source": [
        "#Compute compound interest using loop for a certain principal\n",
        "p=int(input())\n",
        "r=float(input())\n",
        "t=int(input())\n",
        "for i in range(t):\n",
        " A= p*(pow((1+r/100),t))\n",
        "print(A)\n",
        "c=A-p\n",
        "print(c)"
      ],
      "metadata": {
        "colab": {
          "base_uri": "https://localhost:8080/"
        },
        "id": "19CgFuyY2LuZ",
        "outputId": "beb52880-96e0-49aa-a34a-c4068edcb4b5"
      },
      "execution_count": null,
      "outputs": [
        {
          "output_type": "stream",
          "name": "stdout",
          "text": [
            "89\n",
            "12\n",
            "12\n",
            "346.74186333668126\n",
            "257.74186333668126\n"
          ]
        }
      ]
    }
  ]
}